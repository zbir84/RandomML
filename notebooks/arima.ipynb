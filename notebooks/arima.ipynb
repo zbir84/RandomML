{
 "cells": [
  {
   "cell_type": "code",
   "execution_count": null,
   "metadata": {},
   "outputs": [],
   "source": [
    "import mlflow\n",
    "from mlflow.entities import ViewType\n",
    "import pandas as pd\n",
    "from datetime import datetime\n",
    "from matplotlib import pyplot\n",
    "from pandas.plotting import autocorrelation_plot\n",
    "from statsmodels.tsa.arima.model import ARIMA\n",
    "from pandas import DataFrame\n",
    "from sklearn.metrics import mean_squared_error\n",
    "from math import sqrt\n",
    "import seaborn as sns"
   ]
  },
  {
   "cell_type": "code",
   "execution_count": null,
   "metadata": {},
   "outputs": [],
   "source": [
    "EXPERIMENT_NAME = \"ARIMA Shampoo\""
   ]
  },
  {
   "cell_type": "code",
   "execution_count": null,
   "metadata": {},
   "outputs": [],
   "source": [
    "mlflow.set_tracking_uri(uri=\"http://0.0.0.0:5000\")"
   ]
  },
  {
   "cell_type": "code",
   "execution_count": null,
   "metadata": {},
   "outputs": [],
   "source": [
    "exp = mlflow.get_experiment_by_name(name=EXPERIMENT_NAME)\n",
    "if exp is None:\n",
    "    print(f\"Experiment {EXPERIMENT_NAME} does not exist, creating.\")\n",
    "    exp_id = mlflow.create_experiment(name=EXPERIMENT_NAME)\n",
    "else:\n",
    "    exp_id = exp.experiment_id\n",
    "    print(f\"Found {EXPERIMENT_NAME} with id {exp_id}\")\n",
    "\n",
    "mlflow.set_experiment(experiment_id=exp_id)"
   ]
  },
  {
   "cell_type": "code",
   "execution_count": null,
   "metadata": {},
   "outputs": [],
   "source": [
    "def parser(x):\n",
    "    return datetime.strptime(\"190\" + x, \"%Y-%m\")"
   ]
  },
  {
   "cell_type": "code",
   "execution_count": null,
   "metadata": {},
   "outputs": [],
   "source": [
    "sns.set_theme(style=\"darkgrid\")"
   ]
  },
  {
   "cell_type": "code",
   "execution_count": null,
   "metadata": {},
   "outputs": [],
   "source": [
    "df = pd.read_csv(\"../data/shampoo-sales.csv\", header=0, index_col=0, parse_dates=[0], date_parser=parser)\n",
    "df = df.squeeze(\"columns\")"
   ]
  },
  {
   "cell_type": "code",
   "execution_count": null,
   "metadata": {},
   "outputs": [],
   "source": [
    "df.head()"
   ]
  },
  {
   "cell_type": "code",
   "execution_count": null,
   "metadata": {},
   "outputs": [],
   "source": [
    "sns.lineplot(data=df)"
   ]
  },
  {
   "cell_type": "code",
   "execution_count": null,
   "metadata": {},
   "outputs": [],
   "source": [
    "df.plot()\n",
    "pyplot.show()"
   ]
  },
  {
   "cell_type": "code",
   "execution_count": null,
   "metadata": {},
   "outputs": [],
   "source": [
    "autocorrelation_plot(df)\n",
    "pyplot.show()"
   ]
  },
  {
   "cell_type": "code",
   "execution_count": null,
   "metadata": {},
   "outputs": [],
   "source": [
    "df.index = df.index.to_period('M')"
   ]
  },
  {
   "cell_type": "code",
   "execution_count": null,
   "metadata": {},
   "outputs": [],
   "source": [
    "model = ARIMA(df, order=(5,1,0))\n",
    "model_fit = model.fit()\n",
    "# summary of fit model\n",
    "print(model_fit.summary())"
   ]
  },
  {
   "cell_type": "code",
   "execution_count": null,
   "metadata": {},
   "outputs": [],
   "source": [
    "# line plot of residuals\n",
    "residuals = DataFrame(model_fit.resid)\n",
    "residuals.plot()\n",
    "pyplot.show()"
   ]
  },
  {
   "cell_type": "code",
   "execution_count": null,
   "metadata": {},
   "outputs": [],
   "source": [
    "# density plot of residuals\n",
    "residuals.plot(kind='kde')\n",
    "pyplot.show()"
   ]
  },
  {
   "cell_type": "code",
   "execution_count": null,
   "metadata": {},
   "outputs": [],
   "source": [
    "# summary stats of residuals\n",
    "print(residuals.describe())"
   ]
  },
  {
   "cell_type": "code",
   "execution_count": null,
   "metadata": {},
   "outputs": [],
   "source": [
    "# Optional autologging\n",
    "\n",
    "# mlflow.statsmodels.autolog(log_models=True, disable=False, exclusive=False, disable_for_unsupported_versions=False, silent=False, registered_model_name=None)"
   ]
  },
  {
   "cell_type": "code",
   "execution_count": null,
   "metadata": {},
   "outputs": [],
   "source": [
    "# Rolling forecast\n",
    "X = df.values\n",
    "size = int(len(X) * 0.66)\n",
    "train, test = X[0:size], X[size:]\n",
    "history = [x for x in train]\n",
    "predictions = list()\n",
    "p, d, q = (6,2,0)\n",
    "with mlflow.start_run() as run:\n",
    "    for t in test:\n",
    "        model = ARIMA(history, order=(p,d,q))\n",
    "        model_fit = model.fit()\n",
    "        output = model_fit.forecast()\n",
    "        yhat = output[0]\n",
    "        predictions.append(yhat)\n",
    "        history.append(t)\n",
    "        print(f\"predicted {yhat}, expected {t}\")\n",
    "    rmse = sqrt(mean_squared_error(test, predictions))\n",
    "    print(f\"Test RMSE: {rmse:.3f}\")\n",
    "    # Plot forecast against actual observations\n",
    "    test_df = pd.DataFrame({\"sale\": test, \"type\": \"actual\"})\n",
    "    pred_df = pd.DataFrame({\"sale\": predictions, \"type\": \"predictions\"})\n",
    "    df_both = pd.concat([test_df, pred_df]).reset_index().rename(columns={\"index\": \"month\"})\n",
    "    sns.lineplot(x=\"month\", y=\"sale\", data=df_both, hue=\"type\")\n",
    "    forecast_actual_fig = pyplot.gcf()\n",
    "    # Log stuff\n",
    "    mlflow.statsmodels.log_model(model_fit, \"model\")\n",
    "    mlflow.log_metrics({\"rmse\": rmse})\n",
    "    mlflow.log_params({\"p\": p, \"d\": d, \"q\": q})\n",
    "    mlflow.log_figure(figure=forecast_actual_fig, artifact_file=\"figures/forecast_actual.png\")\n",
    "    mlflow.log_text(text=model_fit.summary().as_text(), artifact_file=\"stats/summary.txt\")\n",
    "    mlflow.log_dict(dictionary=df_both.to_dict(orient=\"records\"), artifact_file=\"data/shampoo-sales_forecast.json\")"
   ]
  },
  {
   "cell_type": "code",
   "execution_count": null,
   "metadata": {},
   "outputs": [],
   "source": []
  }
 ],
 "metadata": {
  "kernelspec": {
   "display_name": "Python 3.8.10 ('venv': venv)",
   "language": "python",
   "name": "python3"
  },
  "language_info": {
   "codemirror_mode": {
    "name": "ipython",
    "version": 3
   },
   "file_extension": ".py",
   "mimetype": "text/x-python",
   "name": "python",
   "nbconvert_exporter": "python",
   "pygments_lexer": "ipython3",
   "version": "3.8.10"
  },
  "orig_nbformat": 4,
  "vscode": {
   "interpreter": {
    "hash": "51c0fce9c1dd2fbde5d479e85919b4b95e4a6a2f24cad2e53d744529a8c2efb2"
   }
  }
 },
 "nbformat": 4,
 "nbformat_minor": 2
}
